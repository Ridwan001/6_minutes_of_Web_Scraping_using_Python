{
 "cells": [
  {
   "cell_type": "markdown",
   "metadata": {},
   "source": [
    "# Less than 7 minutes of Web Scraping using Python and Beautiful Soup"
   ]
  },
  {
   "cell_type": "markdown",
   "metadata": {},
   "source": [
    "**Scraping La Liga Stats using Python and Beautiful Soup**"
   ]
  },
  {
   "cell_type": "markdown",
   "metadata": {},
   "source": [
    "Extracting data from the website aka web scraping can save plenty of time and effort. Thanks to Beautiful Soup, the road of web scraping has become even smoother. In this article, we will scrape La Liga 2019–20 stats from a website using Python."
   ]
  },
  {
   "cell_type": "markdown",
   "metadata": {},
   "source": [
    "## Importing Libraries"
   ]
  },
  {
   "cell_type": "code",
   "execution_count": 1,
   "metadata": {},
   "outputs": [
    {
     "name": "stdout",
     "output_type": "stream",
     "text": [
      "Done\n"
     ]
    }
   ],
   "source": [
    "# Importing Libraries\n",
    "import pandas as pd\n",
    "import requests as rq\n",
    "from bs4 import BeautifulSoup\n",
    "print('Done')"
   ]
  },
  {
   "cell_type": "markdown",
   "metadata": {},
   "source": [
    "First things first, all the useful libraries must be imported. I have imported pandas to store the stats in a data frame. The Requests library is imported to send a request to the HTTP server while Beautiful Soup is brought in for web elements retrieval."
   ]
  },
  {
   "cell_type": "markdown",
   "metadata": {},
   "source": [
    "### Communicating with webpage"
   ]
  },
  {
   "cell_type": "code",
   "execution_count": 2,
   "metadata": {},
   "outputs": [],
   "source": [
    "# get the url of the webpage\n",
    "get_url = rq.get(\"https://www.msn.com/en-us/sports/soccer/la-liga/player-stats\")\n",
    "\n",
    "get_text = get_url.text\n",
    "\n",
    "soup = BeautifulSoup(get_text, \"html.parser\")"
   ]
  },
  {
   "cell_type": "markdown",
   "metadata": {},
   "source": [
    "We have to get the target URL and then parse it using the Beautiful Soup library. Once the soup object is created, you are good to go."
   ]
  },
  {
   "cell_type": "markdown",
   "metadata": {},
   "source": [
    "### Extracting web elements"
   ]
  },
  {
   "cell_type": "code",
   "execution_count": 3,
   "metadata": {},
   "outputs": [],
   "source": [
    "rank = [i.text for i in soup.findAll('td', {\"class\" : \"hide1 rankvalue\"})]\n",
    "\n",
    "player_name = [i.text for i in soup.findAll('td', {\"class\" : \"playername\"})]\n",
    "\n",
    "team_name = [i.text for i in soup.findAll('td', {\"class\" : \"teamname\"})]\n",
    "\n",
    "team_la = [i.text for i in soup.findAll('td', {\"class\" : \"teamtla\"})]\n",
    "\n",
    "games_played = [int(i.findAll('td')[4].text) for i in soup.findAll('tr', {\"class\" : \"rowlink\"})]\n",
    "\n",
    "goals_scored = [int(i.findAll('td')[7].text) for i in soup.findAll('tr', {\"class\" : \"rowlink\"})]\n",
    "\n",
    "assists = [int(i.findAll('td')[8].text) for i in soup.findAll('tr', {\"class\" : \"rowlink\"})]"
   ]
  },
  {
   "cell_type": "markdown",
   "metadata": {},
   "source": [
    "Using Beautiful Soup methods, you can access the web elements and its items. I have majorly used the “findAll” method giving “class” as a parameter to get the list of all items present."
   ]
  },
  {
   "cell_type": "markdown",
   "metadata": {},
   "source": [
    "### Storing in a DataFrame"
   ]
  },
  {
   "cell_type": "code",
   "execution_count": 4,
   "metadata": {},
   "outputs": [],
   "source": [
    "laliga_stats = pd.DataFrame({\n",
    "\n",
    "    \"Rank\" : rank,\n",
    "\n",
    "    \"Player Name\" : player_name,\n",
    "\n",
    "    \"Team Name\" : team_name,\n",
    "\n",
    "    \"Team\" : team_la,\n",
    "\n",
    "    \"Games Played\" : games_played,\n",
    "\n",
    "    \"Goals\" : goals_scored,\n",
    "\n",
    "    \"Assists\" : assists\n",
    "    })\n",
    "laliga_stats.set_index('Rank',inplace=True)"
   ]
  },
  {
   "cell_type": "markdown",
   "metadata": {},
   "source": [
    "Finally, store the data into the data frame using the Pandas library. And, you are good to go for your analysis."
   ]
  },
  {
   "cell_type": "markdown",
   "metadata": {},
   "source": [
    "Now you can get the Top 10 goalscorers of 2019–20 La Liga season by just writing a line of code:"
   ]
  },
  {
   "cell_type": "code",
   "execution_count": 5,
   "metadata": {},
   "outputs": [
    {
     "data": {
      "text/html": [
       "<div>\n",
       "<style scoped>\n",
       "    .dataframe tbody tr th:only-of-type {\n",
       "        vertical-align: middle;\n",
       "    }\n",
       "\n",
       "    .dataframe tbody tr th {\n",
       "        vertical-align: top;\n",
       "    }\n",
       "\n",
       "    .dataframe thead th {\n",
       "        text-align: right;\n",
       "    }\n",
       "</style>\n",
       "<table border=\"1\" class=\"dataframe\">\n",
       "  <thead>\n",
       "    <tr style=\"text-align: right;\">\n",
       "      <th></th>\n",
       "      <th>Player Name</th>\n",
       "      <th>Team Name</th>\n",
       "      <th>Team</th>\n",
       "      <th>Games Played</th>\n",
       "      <th>Goals</th>\n",
       "      <th>Assists</th>\n",
       "    </tr>\n",
       "    <tr>\n",
       "      <th>Rank</th>\n",
       "      <th></th>\n",
       "      <th></th>\n",
       "      <th></th>\n",
       "      <th></th>\n",
       "      <th></th>\n",
       "      <th></th>\n",
       "    </tr>\n",
       "  </thead>\n",
       "  <tbody>\n",
       "    <tr>\n",
       "      <th>1</th>\n",
       "      <td>Lionel Andrés Messi Cuccittini</td>\n",
       "      <td>Barcelona</td>\n",
       "      <td>BAR</td>\n",
       "      <td>33</td>\n",
       "      <td>25</td>\n",
       "      <td>21</td>\n",
       "    </tr>\n",
       "    <tr>\n",
       "      <th>2</th>\n",
       "      <td>Karim Benzema</td>\n",
       "      <td>Real Madrid</td>\n",
       "      <td>RMA</td>\n",
       "      <td>37</td>\n",
       "      <td>21</td>\n",
       "      <td>8</td>\n",
       "    </tr>\n",
       "    <tr>\n",
       "      <th>3</th>\n",
       "      <td>Gerard Moreno Balaguero</td>\n",
       "      <td>Villarreal</td>\n",
       "      <td>VIL</td>\n",
       "      <td>35</td>\n",
       "      <td>18</td>\n",
       "      <td>5</td>\n",
       "    </tr>\n",
       "    <tr>\n",
       "      <th>4</th>\n",
       "      <td>Luis Suárez</td>\n",
       "      <td>Barcelona</td>\n",
       "      <td>BAR</td>\n",
       "      <td>28</td>\n",
       "      <td>16</td>\n",
       "      <td>8</td>\n",
       "    </tr>\n",
       "    <tr>\n",
       "      <th>5</th>\n",
       "      <td>Raúl García</td>\n",
       "      <td>Athletic Club</td>\n",
       "      <td>ATH</td>\n",
       "      <td>35</td>\n",
       "      <td>15</td>\n",
       "      <td>1</td>\n",
       "    </tr>\n",
       "    <tr>\n",
       "      <th>6</th>\n",
       "      <td>Iago Aspas</td>\n",
       "      <td>Celta de Vigo</td>\n",
       "      <td>CEL</td>\n",
       "      <td>37</td>\n",
       "      <td>14</td>\n",
       "      <td>3</td>\n",
       "    </tr>\n",
       "    <tr>\n",
       "      <th>7</th>\n",
       "      <td>Lucas Ariel Ocampos</td>\n",
       "      <td>Sevilla</td>\n",
       "      <td>SFC</td>\n",
       "      <td>33</td>\n",
       "      <td>14</td>\n",
       "      <td>3</td>\n",
       "    </tr>\n",
       "    <tr>\n",
       "      <th>8</th>\n",
       "      <td>Ante Budimir</td>\n",
       "      <td>Mallorca</td>\n",
       "      <td>MLL</td>\n",
       "      <td>35</td>\n",
       "      <td>13</td>\n",
       "      <td>2</td>\n",
       "    </tr>\n",
       "    <tr>\n",
       "      <th>9</th>\n",
       "      <td>Álvaro Borja Morata Martín</td>\n",
       "      <td>Atlético de Madrid</td>\n",
       "      <td>ATM</td>\n",
       "      <td>34</td>\n",
       "      <td>12</td>\n",
       "      <td>2</td>\n",
       "    </tr>\n",
       "    <tr>\n",
       "      <th>10</th>\n",
       "      <td>Sergio Ramos García</td>\n",
       "      <td>Real Madrid</td>\n",
       "      <td>RMA</td>\n",
       "      <td>35</td>\n",
       "      <td>11</td>\n",
       "      <td>0</td>\n",
       "    </tr>\n",
       "  </tbody>\n",
       "</table>\n",
       "</div>"
      ],
      "text/plain": [
       "                         Player Name           Team Name Team  Games Played  \\\n",
       "Rank                                                                          \n",
       "1     Lionel Andrés Messi Cuccittini           Barcelona  BAR            33   \n",
       "2                      Karim Benzema         Real Madrid  RMA            37   \n",
       "3            Gerard Moreno Balaguero          Villarreal  VIL            35   \n",
       "4                        Luis Suárez           Barcelona  BAR            28   \n",
       "5                        Raúl García       Athletic Club  ATH            35   \n",
       "6                         Iago Aspas       Celta de Vigo  CEL            37   \n",
       "7                Lucas Ariel Ocampos             Sevilla  SFC            33   \n",
       "8                       Ante Budimir            Mallorca  MLL            35   \n",
       "9         Álvaro Borja Morata Martín  Atlético de Madrid  ATM            34   \n",
       "10               Sergio Ramos García         Real Madrid  RMA            35   \n",
       "\n",
       "      Goals  Assists  \n",
       "Rank                  \n",
       "1        25       21  \n",
       "2        21        8  \n",
       "3        18        5  \n",
       "4        16        8  \n",
       "5        15        1  \n",
       "6        14        3  \n",
       "7        14        3  \n",
       "8        13        2  \n",
       "9        12        2  \n",
       "10       11        0  "
      ]
     },
     "execution_count": 5,
     "metadata": {},
     "output_type": "execute_result"
    }
   ],
   "source": [
    "laliga_stats.head(10)"
   ]
  },
  {
   "cell_type": "markdown",
   "metadata": {},
   "source": [
    "All it takes is Python and Beautiful Soup’s wonder to scrape a website. So, open up Beautiful Soup’s documentation on a new tab and start scraping."
   ]
  },
  {
   "cell_type": "markdown",
   "metadata": {},
   "source": [
    "# Thanks for Reading!"
   ]
  },
  {
   "cell_type": "code",
   "execution_count": null,
   "metadata": {},
   "outputs": [],
   "source": []
  }
 ],
 "metadata": {
  "kernelspec": {
   "display_name": "Python 3",
   "language": "python",
   "name": "python3"
  },
  "language_info": {
   "codemirror_mode": {
    "name": "ipython",
    "version": 3
   },
   "file_extension": ".py",
   "mimetype": "text/x-python",
   "name": "python",
   "nbconvert_exporter": "python",
   "pygments_lexer": "ipython3",
   "version": "3.7.1"
  }
 },
 "nbformat": 4,
 "nbformat_minor": 2
}
